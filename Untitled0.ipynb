{
  "nbformat": 4,
  "nbformat_minor": 0,
  "metadata": {
    "colab": {
      "name": "Untitled0.ipynb",
      "provenance": [],
      "authorship_tag": "ABX9TyOJgBOADlafmYWfi0ubb4ti",
      "include_colab_link": true
    },
    "kernelspec": {
      "name": "python3",
      "display_name": "Python 3"
    },
    "language_info": {
      "name": "python"
    }
  },
  "cells": [
    {
      "cell_type": "markdown",
      "metadata": {
        "id": "view-in-github",
        "colab_type": "text"
      },
      "source": [
        "<a href=\"https://colab.research.google.com/github/navjotkaur2811/assignment--2/blob/main/Untitled0.ipynb\" target=\"_parent\"><img src=\"https://colab.research.google.com/assets/colab-badge.svg\" alt=\"Open In Colab\"/></a>"
      ]
    },
    {
      "cell_type": "code",
      "metadata": {
        "colab": {
          "base_uri": "https://localhost:8080/"
        },
        "id": "1hG8XtW7GG9X",
        "outputId": "e979eab2-ac8f-4691-855d-06f6e2e3006b"
      },
      "source": [
        "#assignment 2 -- Remove all occurences of an element from a list\n",
        "#using remove \n",
        "list=[1,3,5,5,5,6,8,10,20]\n",
        "list.remove(5)\n",
        "print(list)\n",
        "list.remove(5)\n",
        "print(list)\n",
        "list.remove(5)\n",
        "print(list)"
      ],
      "execution_count": 10,
      "outputs": [
        {
          "output_type": "stream",
          "text": [
            "[1, 3, 5, 5, 6, 8, 10, 21]\n",
            "[1, 3, 5, 6, 8, 10, 21]\n",
            "[1, 3, 6, 8, 10, 21]\n"
          ],
          "name": "stdout"
        }
      ]
    },
    {
      "cell_type": "code",
      "metadata": {
        "colab": {
          "base_uri": "https://localhost:8080/"
        },
        "id": "5b-0V_2UKm6L",
        "outputId": "cdd20477-8232-4bd4-ef1e-4cd9e6bd4c66"
      },
      "source": [
        "#using pop\n",
        "list=[1,2,4,3,5,6,6,6,7,10]\n",
        "list.pop(5)\n",
        "print(list)\n",
        "list.pop(5)\n",
        "print(list)\n",
        "list.pop(5)\n",
        "print(list)"
      ],
      "execution_count": 4,
      "outputs": [
        {
          "output_type": "stream",
          "text": [
            "[1, 2, 4, 3, 5, 6, 6, 7, 10]\n",
            "[1, 2, 4, 3, 5, 6, 7, 10]\n",
            "[1, 2, 4, 3, 5, 7, 10]\n"
          ],
          "name": "stdout"
        }
      ]
    },
    {
      "cell_type": "code",
      "metadata": {
        "id": "N1hT2NwrLvp8"
      },
      "source": [
        "# HENCE ALL THE OCCURENCES CAN BE REMOVED USING REMOVE AND POP"
      ],
      "execution_count": null,
      "outputs": []
    }
  ]
}